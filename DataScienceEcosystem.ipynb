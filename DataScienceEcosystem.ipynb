{
  "nbformat": 4,
  "nbformat_minor": 0,
  "metadata": {
    "colab": {
      "provenance": [],
      "authorship_tag": "ABX9TyNBNPWpM/+IbLj65Sj3E8z4",
      "include_colab_link": true
    },
    "kernelspec": {
      "name": "python3",
      "display_name": "Python 3"
    },
    "language_info": {
      "name": "python"
    }
  },
  "cells": [
    {
      "cell_type": "markdown",
      "metadata": {
        "id": "view-in-github",
        "colab_type": "text"
      },
      "source": [
        "<a href=\"https://colab.research.google.com/github/hermannKonyar/IBM_ToolsforDataScience/blob/main/DataScienceEcosystem.ipynb\" target=\"_parent\"><img src=\"https://colab.research.google.com/assets/colab-badge.svg\" alt=\"Open In Colab\"/></a>"
      ]
    },
    {
      "cell_type": "markdown",
      "source": [
        "# Data Science Tools and Ecosystem\n"
      ],
      "metadata": {
        "id": "o9M3ft3DXClS"
      }
    },
    {
      "cell_type": "markdown",
      "source": [
        "In this notebook, Data Science Tools and Ecosystem are summarized.\n"
      ],
      "metadata": {
        "id": "JzjKAkRuXTKo"
      }
    },
    {
      "cell_type": "markdown",
      "source": [
        "### Data Science Languages\n",
        "Some of the popular languages that Data Scientists use are:\n",
        "\n",
        "* Python \n",
        "* R \n",
        "* SQL\n",
        "\n",
        "\n",
        "\n",
        "\n",
        "\n"
      ],
      "metadata": {
        "id": "tFGiV-kNYDYd"
      }
    },
    {
      "cell_type": "markdown",
      "source": [
        "Some of the commonly used libraries used by Data Scientists include:\n",
        "\n",
        "* NumPy\n",
        "* Pandas\n",
        "* Matplotlib\n",
        "\n"
      ],
      "metadata": {
        "id": "26b3KoRPZQ9A"
      }
    },
    {
      "cell_type": "markdown",
      "source": [
        "## Data Science Tools\n",
        "\n",
        "| Tool            |\n",
        "|-----------------|\n",
        "| Jupyter Notebook|\n",
        "| RStudio         |\n",
        "| PyCharm         |"
      ],
      "metadata": {
        "id": "bMON2boyZ9Vp"
      }
    },
    {
      "cell_type": "markdown",
      "source": [
        "### Below are a few examples of evaluating arithmetic expressions in Python."
      ],
      "metadata": {
        "id": "PCIiIRq8aPbT"
      }
    },
    {
      "cell_type": "code",
      "source": [
        "# This is a simple arithmetic expression to multiply then add integers.\n",
        "(3 * 4) + 5"
      ],
      "metadata": {
        "colab": {
          "base_uri": "https://localhost:8080/"
        },
        "id": "U0auqsfRaZQ-",
        "outputId": "906116d5-027c-44d3-aa3e-b32035df919e"
      },
      "execution_count": 1,
      "outputs": [
        {
          "output_type": "execute_result",
          "data": {
            "text/plain": [
              "17"
            ]
          },
          "metadata": {},
          "execution_count": 1
        }
      ]
    },
    {
      "cell_type": "code",
      "source": [
        "# This will convert 200 minutes to hours by diving by 60.\n",
        "\n",
        "200 / 60"
      ],
      "metadata": {
        "colab": {
          "base_uri": "https://localhost:8080/"
        },
        "id": "rlE4l92_avoX",
        "outputId": "9a313ee4-21e8-4aed-a871-2d27ae181648"
      },
      "execution_count": 3,
      "outputs": [
        {
          "output_type": "execute_result",
          "data": {
            "text/plain": [
              "3.3333333333333335"
            ]
          },
          "metadata": {},
          "execution_count": 3
        }
      ]
    },
    {
      "cell_type": "markdown",
      "source": [
        "###Objectives:\n",
        "####Some of the objectives covered in this notebook include:\n",
        "\n",
        "* Providing an overview of Data Science tools and ecosystem\n",
        "* Listing the popular languages and libraries used in Data Science\n",
        "* Describing the commonly used development environments in Data Science\n",
        "* Evaluating arithmetic expressions and performing basic mathematical operations\n",
        "* Performing simple calculations such as converting minutes to hours"
      ],
      "metadata": {
        "id": "MEuuNJvdbEfe"
      }
    },
    {
      "cell_type": "markdown",
      "source": [
        "### Author\n",
        "Bu defter **Erman Konyar** tarafından hazırlanmıştır."
      ],
      "metadata": {
        "id": "UtHdamvxbeFx"
      }
    },
    {
      "cell_type": "code",
      "source": [],
      "metadata": {
        "id": "-AiAtqZWbMj7"
      },
      "execution_count": null,
      "outputs": []
    }
  ]
}